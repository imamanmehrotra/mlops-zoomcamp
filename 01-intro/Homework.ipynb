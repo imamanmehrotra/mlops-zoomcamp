{
 "cells": [
  {
   "cell_type": "code",
   "execution_count": 1,
   "id": "b95d51ae",
   "metadata": {},
   "outputs": [],
   "source": [
    "import pandas as pd\n",
    "import sklearn\n",
    "from sklearn.feature_extraction import DictVectorizer\n",
    "from sklearn.linear_model import LinearRegression\n",
    "from sklearn.metrics import mean_squared_error\n",
    "import time \n",
    "import numpy as np\n",
    "import matplotlib.pyplot as plt\n",
    "import seaborn as sns\n",
    "\n",
    "%matplotlib inline"
   ]
  },
  {
   "cell_type": "code",
   "execution_count": 2,
   "id": "dd69e6b7",
   "metadata": {},
   "outputs": [
    {
     "data": {
      "text/html": [
       "<div>\n",
       "<style scoped>\n",
       "    .dataframe tbody tr th:only-of-type {\n",
       "        vertical-align: middle;\n",
       "    }\n",
       "\n",
       "    .dataframe tbody tr th {\n",
       "        vertical-align: top;\n",
       "    }\n",
       "\n",
       "    .dataframe thead th {\n",
       "        text-align: right;\n",
       "    }\n",
       "</style>\n",
       "<table border=\"1\" class=\"dataframe\">\n",
       "  <thead>\n",
       "    <tr style=\"text-align: right;\">\n",
       "      <th></th>\n",
       "      <th>VendorID</th>\n",
       "      <th>tpep_pickup_datetime</th>\n",
       "      <th>tpep_dropoff_datetime</th>\n",
       "      <th>passenger_count</th>\n",
       "      <th>trip_distance</th>\n",
       "      <th>RatecodeID</th>\n",
       "      <th>store_and_fwd_flag</th>\n",
       "      <th>PULocationID</th>\n",
       "      <th>DOLocationID</th>\n",
       "      <th>payment_type</th>\n",
       "      <th>fare_amount</th>\n",
       "      <th>extra</th>\n",
       "      <th>mta_tax</th>\n",
       "      <th>tip_amount</th>\n",
       "      <th>tolls_amount</th>\n",
       "      <th>improvement_surcharge</th>\n",
       "      <th>total_amount</th>\n",
       "      <th>congestion_surcharge</th>\n",
       "      <th>airport_fee</th>\n",
       "    </tr>\n",
       "  </thead>\n",
       "  <tbody>\n",
       "    <tr>\n",
       "      <th>0</th>\n",
       "      <td>2</td>\n",
       "      <td>2023-01-01 00:32:10</td>\n",
       "      <td>2023-01-01 00:40:36</td>\n",
       "      <td>1.0</td>\n",
       "      <td>0.97</td>\n",
       "      <td>1.0</td>\n",
       "      <td>N</td>\n",
       "      <td>161</td>\n",
       "      <td>141</td>\n",
       "      <td>2</td>\n",
       "      <td>9.3</td>\n",
       "      <td>1.00</td>\n",
       "      <td>0.5</td>\n",
       "      <td>0.00</td>\n",
       "      <td>0.0</td>\n",
       "      <td>1.0</td>\n",
       "      <td>14.30</td>\n",
       "      <td>2.5</td>\n",
       "      <td>0.00</td>\n",
       "    </tr>\n",
       "    <tr>\n",
       "      <th>1</th>\n",
       "      <td>2</td>\n",
       "      <td>2023-01-01 00:55:08</td>\n",
       "      <td>2023-01-01 01:01:27</td>\n",
       "      <td>1.0</td>\n",
       "      <td>1.10</td>\n",
       "      <td>1.0</td>\n",
       "      <td>N</td>\n",
       "      <td>43</td>\n",
       "      <td>237</td>\n",
       "      <td>1</td>\n",
       "      <td>7.9</td>\n",
       "      <td>1.00</td>\n",
       "      <td>0.5</td>\n",
       "      <td>4.00</td>\n",
       "      <td>0.0</td>\n",
       "      <td>1.0</td>\n",
       "      <td>16.90</td>\n",
       "      <td>2.5</td>\n",
       "      <td>0.00</td>\n",
       "    </tr>\n",
       "    <tr>\n",
       "      <th>2</th>\n",
       "      <td>2</td>\n",
       "      <td>2023-01-01 00:25:04</td>\n",
       "      <td>2023-01-01 00:37:49</td>\n",
       "      <td>1.0</td>\n",
       "      <td>2.51</td>\n",
       "      <td>1.0</td>\n",
       "      <td>N</td>\n",
       "      <td>48</td>\n",
       "      <td>238</td>\n",
       "      <td>1</td>\n",
       "      <td>14.9</td>\n",
       "      <td>1.00</td>\n",
       "      <td>0.5</td>\n",
       "      <td>15.00</td>\n",
       "      <td>0.0</td>\n",
       "      <td>1.0</td>\n",
       "      <td>34.90</td>\n",
       "      <td>2.5</td>\n",
       "      <td>0.00</td>\n",
       "    </tr>\n",
       "    <tr>\n",
       "      <th>3</th>\n",
       "      <td>1</td>\n",
       "      <td>2023-01-01 00:03:48</td>\n",
       "      <td>2023-01-01 00:13:25</td>\n",
       "      <td>0.0</td>\n",
       "      <td>1.90</td>\n",
       "      <td>1.0</td>\n",
       "      <td>N</td>\n",
       "      <td>138</td>\n",
       "      <td>7</td>\n",
       "      <td>1</td>\n",
       "      <td>12.1</td>\n",
       "      <td>7.25</td>\n",
       "      <td>0.5</td>\n",
       "      <td>0.00</td>\n",
       "      <td>0.0</td>\n",
       "      <td>1.0</td>\n",
       "      <td>20.85</td>\n",
       "      <td>0.0</td>\n",
       "      <td>1.25</td>\n",
       "    </tr>\n",
       "    <tr>\n",
       "      <th>4</th>\n",
       "      <td>2</td>\n",
       "      <td>2023-01-01 00:10:29</td>\n",
       "      <td>2023-01-01 00:21:19</td>\n",
       "      <td>1.0</td>\n",
       "      <td>1.43</td>\n",
       "      <td>1.0</td>\n",
       "      <td>N</td>\n",
       "      <td>107</td>\n",
       "      <td>79</td>\n",
       "      <td>1</td>\n",
       "      <td>11.4</td>\n",
       "      <td>1.00</td>\n",
       "      <td>0.5</td>\n",
       "      <td>3.28</td>\n",
       "      <td>0.0</td>\n",
       "      <td>1.0</td>\n",
       "      <td>19.68</td>\n",
       "      <td>2.5</td>\n",
       "      <td>0.00</td>\n",
       "    </tr>\n",
       "  </tbody>\n",
       "</table>\n",
       "</div>"
      ],
      "text/plain": [
       "   VendorID tpep_pickup_datetime tpep_dropoff_datetime  passenger_count  \\\n",
       "0         2  2023-01-01 00:32:10   2023-01-01 00:40:36              1.0   \n",
       "1         2  2023-01-01 00:55:08   2023-01-01 01:01:27              1.0   \n",
       "2         2  2023-01-01 00:25:04   2023-01-01 00:37:49              1.0   \n",
       "3         1  2023-01-01 00:03:48   2023-01-01 00:13:25              0.0   \n",
       "4         2  2023-01-01 00:10:29   2023-01-01 00:21:19              1.0   \n",
       "\n",
       "   trip_distance  RatecodeID store_and_fwd_flag  PULocationID  DOLocationID  \\\n",
       "0           0.97         1.0                  N           161           141   \n",
       "1           1.10         1.0                  N            43           237   \n",
       "2           2.51         1.0                  N            48           238   \n",
       "3           1.90         1.0                  N           138             7   \n",
       "4           1.43         1.0                  N           107            79   \n",
       "\n",
       "   payment_type  fare_amount  extra  mta_tax  tip_amount  tolls_amount  \\\n",
       "0             2          9.3   1.00      0.5        0.00           0.0   \n",
       "1             1          7.9   1.00      0.5        4.00           0.0   \n",
       "2             1         14.9   1.00      0.5       15.00           0.0   \n",
       "3             1         12.1   7.25      0.5        0.00           0.0   \n",
       "4             1         11.4   1.00      0.5        3.28           0.0   \n",
       "\n",
       "   improvement_surcharge  total_amount  congestion_surcharge  airport_fee  \n",
       "0                    1.0         14.30                   2.5         0.00  \n",
       "1                    1.0         16.90                   2.5         0.00  \n",
       "2                    1.0         34.90                   2.5         0.00  \n",
       "3                    1.0         20.85                   0.0         1.25  \n",
       "4                    1.0         19.68                   2.5         0.00  "
      ]
     },
     "execution_count": 2,
     "metadata": {},
     "output_type": "execute_result"
    }
   ],
   "source": [
    "df_jan23 = pd.read_parquet(\"yellow_tripdata_2023-01.parquet\")\n",
    "df_jan23.head()"
   ]
  },
  {
   "cell_type": "code",
   "execution_count": 3,
   "id": "41b19c44",
   "metadata": {},
   "outputs": [
    {
     "name": "stdout",
     "output_type": "stream",
     "text": [
      "Columns in Jan 23 Dataset: 19\n"
     ]
    }
   ],
   "source": [
    "cols = df_jan23.shape[1]\n",
    "print(f\"Columns in Jan 23 Dataset: {cols}\")"
   ]
  },
  {
   "cell_type": "code",
   "execution_count": 4,
   "id": "1fe5840b",
   "metadata": {},
   "outputs": [],
   "source": [
    "duration = df_jan23['tpep_dropoff_datetime']-df_jan23['tpep_pickup_datetime']"
   ]
  },
  {
   "cell_type": "code",
   "execution_count": 5,
   "id": "9cbf1811",
   "metadata": {},
   "outputs": [],
   "source": [
    "df_jan23['duration'] = duration.apply(lambda x:round((x.total_seconds()/60),2))"
   ]
  },
  {
   "cell_type": "code",
   "execution_count": 6,
   "id": "4cbad9dc",
   "metadata": {},
   "outputs": [
    {
     "name": "stdout",
     "output_type": "stream",
     "text": [
      "Standard Deviation of trips duration in January 2023: 42.59 min\n"
     ]
    }
   ],
   "source": [
    "standard_dev = round((np.std(df_jan23['duration'])),2)\n",
    "print(f\"Standard Deviation of trips duration in January 2023: {standard_dev} min\")"
   ]
  },
  {
   "cell_type": "code",
   "execution_count": 7,
   "id": "1f46964c",
   "metadata": {},
   "outputs": [],
   "source": [
    "cdf = df_jan23[(df_jan23['duration']>=1) & (df_jan23['duration']<=60)].copy()"
   ]
  },
  {
   "cell_type": "code",
   "execution_count": 8,
   "id": "8792b60f",
   "metadata": {},
   "outputs": [],
   "source": [
    "orig_rows = df_jan23.shape[0]\n",
    "clean_rows = cdf.shape[0]"
   ]
  },
  {
   "cell_type": "code",
   "execution_count": 9,
   "id": "b8f6ddb4",
   "metadata": {},
   "outputs": [
    {
     "name": "stdout",
     "output_type": "stream",
     "text": [
      "Fraction of records left after we dropped outliers 98.12%\n"
     ]
    }
   ],
   "source": [
    "records_left = (clean_rows/orig_rows) * 100\n",
    "print(\"Fraction of records left after we dropped outliers {:.2f}%\".format(records_left))"
   ]
  },
  {
   "cell_type": "code",
   "execution_count": 10,
   "id": "024658e9",
   "metadata": {},
   "outputs": [],
   "source": [
    "locationID_cols = ['PULocationID','DOLocationID']\n",
    "cdf[locationID_cols] = cdf[locationID_cols].astype(str)"
   ]
  },
  {
   "cell_type": "code",
   "execution_count": 11,
   "id": "867ee554",
   "metadata": {},
   "outputs": [],
   "source": [
    "col_dict = cdf[locationID_cols].to_dict(orient='records')"
   ]
  },
  {
   "cell_type": "code",
   "execution_count": 12,
   "id": "9a57c018",
   "metadata": {},
   "outputs": [],
   "source": [
    "dict_vec = DictVectorizer()\n",
    "X_train = dict_vec.fit_transform(col_dict)"
   ]
  },
  {
   "cell_type": "code",
   "execution_count": 13,
   "id": "92959dfb",
   "metadata": {},
   "outputs": [
    {
     "data": {
      "text/plain": [
       "(3009173, 515)"
      ]
     },
     "execution_count": 13,
     "metadata": {},
     "output_type": "execute_result"
    }
   ],
   "source": [
    "X_train.shape"
   ]
  },
  {
   "cell_type": "code",
   "execution_count": 13,
   "id": "ad8cfff2",
   "metadata": {},
   "outputs": [
    {
     "data": {
      "text/plain": [
       "(3009173,)"
      ]
     },
     "execution_count": 13,
     "metadata": {},
     "output_type": "execute_result"
    }
   ],
   "source": [
    "y_train= cdf['duration'].values\n",
    "y_train.shape"
   ]
  },
  {
   "cell_type": "code",
   "execution_count": 14,
   "id": "563103ec",
   "metadata": {},
   "outputs": [
    {
     "data": {
      "text/plain": [
       "LinearRegression()"
      ]
     },
     "execution_count": 14,
     "metadata": {},
     "output_type": "execute_result"
    }
   ],
   "source": [
    "lr_model = LinearRegression()\n",
    "lr_model.fit(X_train, y_train)"
   ]
  },
  {
   "cell_type": "code",
   "execution_count": 15,
   "id": "09fe6384",
   "metadata": {},
   "outputs": [],
   "source": [
    "y_train_pred = lr_model.predict(X_train)"
   ]
  },
  {
   "cell_type": "code",
   "execution_count": 16,
   "id": "604c4a1b",
   "metadata": {},
   "outputs": [
    {
     "name": "stdout",
     "output_type": "stream",
     "text": [
      "RMSE on Training Data: 7.65%\n"
     ]
    }
   ],
   "source": [
    "rmse = mean_squared_error(y_train, y_train_pred,squared=False)\n",
    "print(\"RMSE on Training Data: {:.2f}%\".format(rmse))"
   ]
  },
  {
   "cell_type": "code",
   "execution_count": 17,
   "id": "92908725",
   "metadata": {},
   "outputs": [],
   "source": [
    "#For deallocating some memory consumed by dataframe which is not in use\n",
    "del df_jan23\n",
    "del cdf"
   ]
  },
  {
   "cell_type": "code",
   "execution_count": 24,
   "id": "6a86cfb7",
   "metadata": {},
   "outputs": [
    {
     "name": "stdout",
     "output_type": "stream",
     "text": [
      "Processing Complete for feb file\n"
     ]
    }
   ],
   "source": [
    "# df_feb23 = pd.read_parquet(\"yellow_tripdata_2023-02.parquet\")\n",
    "# df_feb23.head()\n",
    "\n",
    "\n",
    "def ops_on_df(dataset_path, dv):\n",
    "    df_feb23 = pd.read_parquet(dataset_path)\n",
    "    duration = df_feb23['tpep_dropoff_datetime']-df_feb23['tpep_pickup_datetime']\n",
    "    df_feb23['duration'] = duration.apply(lambda x:round((x.total_seconds()/60),2))\n",
    "    cdf_feb = df_feb23[(df_feb23['duration']>=1) & (df_feb23['duration']<=60)].copy()\n",
    "    locationID_cols = ['PULocationID','DOLocationID']\n",
    "    cdf_feb[locationID_cols] = cdf_feb[locationID_cols].astype(str)\n",
    "    col_dict_feb = cdf_feb[locationID_cols].to_dict(orient='records')\n",
    "    X_train_feb = dv.transform(col_dict_feb)\n",
    "    y_train_feb = cdf_feb['duration'].values\n",
    "    print(\"Processing Complete for feb file\")\n",
    "    return X_train_feb, y_train_feb  \n",
    "    \n",
    "    \n",
    "X_train_feb, y_train_feb = ops_on_df(\"yellow_tripdata_2023-02.parquet\", dict_vec) "
   ]
  },
  {
   "cell_type": "code",
   "execution_count": 27,
   "id": "a6f6b513",
   "metadata": {},
   "outputs": [
    {
     "name": "stdout",
     "output_type": "stream",
     "text": [
      "RMSE on testing/evaluation Dataset: 7.81%\n"
     ]
    }
   ],
   "source": [
    "y_test_pred = lr_model.predict(X_train_feb)\n",
    "feb_rmse = round(mean_squared_error(y_train_feb, y_test_pred, squared = False),2)\n",
    "print(f\"RMSE on testing/evaluation Dataset: {feb_rmse}%\")"
   ]
  },
  {
   "cell_type": "code",
   "execution_count": 28,
   "id": "6c23b0a8",
   "metadata": {},
   "outputs": [],
   "source": [
    "#Once again deallocating the memory which is not in use\n",
    "del X_train_feb\n",
    "del y_train_feb"
   ]
  },
  {
   "cell_type": "markdown",
   "id": "c2f3701f",
   "metadata": {},
   "source": [
    "------------------------------------------- HOMEWORK COMPLETED ----------------------------------------------------------"
   ]
  },
  {
   "cell_type": "code",
   "execution_count": null,
   "id": "be0c14d4",
   "metadata": {},
   "outputs": [],
   "source": []
  },
  {
   "cell_type": "code",
   "execution_count": null,
   "id": "d063c8a4",
   "metadata": {},
   "outputs": [],
   "source": []
  }
 ],
 "metadata": {
  "kernelspec": {
   "display_name": "Python 3 (ipykernel)",
   "language": "python",
   "name": "python3"
  },
  "language_info": {
   "codemirror_mode": {
    "name": "ipython",
    "version": 3
   },
   "file_extension": ".py",
   "mimetype": "text/x-python",
   "name": "python",
   "nbconvert_exporter": "python",
   "pygments_lexer": "ipython3",
   "version": "3.9.12"
  }
 },
 "nbformat": 4,
 "nbformat_minor": 5
}
